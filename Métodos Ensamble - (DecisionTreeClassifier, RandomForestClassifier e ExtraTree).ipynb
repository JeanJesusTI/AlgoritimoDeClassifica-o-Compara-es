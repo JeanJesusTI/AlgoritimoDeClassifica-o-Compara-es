{
 "cells": [
  {
   "cell_type": "markdown",
   "metadata": {},
   "source": [
    "# Comparação de Algoritimos de Classificação"
   ]
  },
  {
   "cell_type": "code",
   "execution_count": null,
   "metadata": {},
   "outputs": [],
   "source": [
    "# Importação de Módulos Necessários\n",
    "from sklearn.cross_validation import cross_val_score\n",
    "from sklearn.ensemble import ExtraTreesClassifier\n",
    "from sklearn.tree import DecisionTreeClassifier\n",
    "from sklearn.ensemble import RandomForestClassifier\n",
    "from sklearn.datasets import load_digits\n",
    "from sklearn.preprocessing import scale"
   ]
  },
  {
   "cell_type": "code",
   "execution_count": 3,
   "metadata": {},
   "outputs": [],
   "source": [
    "# Carregando dados\n",
    "dataset = load_digits()\n",
    "labels = dataset.target_names\n",
    "\n",
    "# Aplicando a função scale para colocar as variaveis preditoras em uma mesma escala\n",
    "# Aplicamos a seguinte divisão:\n",
    "# x = Variáveis preditoras\n",
    "# y = variável target (a qual queremos prever)\n",
    "\n",
    "x = scale(dataset.data)\n",
    "y = dataset.target"
   ]
  },
  {
   "cell_type": "markdown",
   "metadata": {},
   "source": [
    "### Avaliando Score - DecisionTreeClassifier"
   ]
  },
  {
   "cell_type": "code",
   "execution_count": 4,
   "metadata": {},
   "outputs": [
    {
     "name": "stdout",
     "output_type": "stream",
     "text": [
      "Média: 77.19 %\n"
     ]
    }
   ],
   "source": [
    "# Criando objeto\n",
    "clf = DecisionTreeClassifier(max_depth= None, min_samples_split= 2, random_state=0)\n",
    "\n",
    "# Avaliando Score\n",
    "clf_score = cross_val_score(clf, x,y)\n",
    "clf_score = clf_score.mean()*100\n",
    "print(\"Média: %2.2f\" % clf_score, \"%\")"
   ]
  },
  {
   "cell_type": "markdown",
   "metadata": {},
   "source": [
    "### Avaliando Score - RandomForestClassifier"
   ]
  },
  {
   "cell_type": "code",
   "execution_count": 5,
   "metadata": {},
   "outputs": [
    {
     "name": "stdout",
     "output_type": "stream",
     "text": [
      "Média: 93.60 %\n"
     ]
    }
   ],
   "source": [
    "# Criando Objeto\n",
    "clf2 = RandomForestClassifier(n_estimators= 100, max_depth= None, min_samples_split= 2, random_state=0)\n",
    "\n",
    "# Avaliando Score\n",
    "clf2_score = cross_val_score(clf2, x,y)\n",
    "clf2_score = clf2_score.mean()*100\n",
    "print(\"Média: %2.2f\" % clf2_score, \"%\")"
   ]
  },
  {
   "cell_type": "markdown",
   "metadata": {},
   "source": [
    "## Avaliando Score - ExtraTreesClassifier"
   ]
  },
  {
   "cell_type": "code",
   "execution_count": 6,
   "metadata": {},
   "outputs": [
    {
     "name": "stdout",
     "output_type": "stream",
     "text": [
      "Média: 95.88 %\n"
     ]
    }
   ],
   "source": [
    "# Criando Objeto\n",
    "clf3 = ExtraTreesClassifier(n_estimators=100, max_depth= None, min_samples_split= 2, random_state=0)\n",
    "\n",
    "# Avaliando Score\n",
    "clf3_score = cross_val_score(clf3, x, y)\n",
    "clf3_score = clf3_score.mean()*100\n",
    "print(\"Média: %2.2f\" % clf3_score, \"%\")"
   ]
  }
 ],
 "metadata": {
  "kernelspec": {
   "display_name": "Python 3",
   "language": "python",
   "name": "python3"
  },
  "language_info": {
   "codemirror_mode": {
    "name": "ipython",
    "version": 3
   },
   "file_extension": ".py",
   "mimetype": "text/x-python",
   "name": "python",
   "nbconvert_exporter": "python",
   "pygments_lexer": "ipython3",
   "version": "3.7.0"
  }
 },
 "nbformat": 4,
 "nbformat_minor": 2
}
